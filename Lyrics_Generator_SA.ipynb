{
 "cells": [
  {
   "cell_type": "code",
   "execution_count": null,
   "id": "21fe06af",
   "metadata": {
    "id": "21fe06af"
   },
   "outputs": [],
   "source": [
    "import pandas as pd\n",
    "import numpy as np\n",
    "import seaborn as sns\n",
    "import matplotlib.pyplot as plt\n",
    "#from wordcloud import WordCloud, STOPWORDS, ImageColorGenerator\n",
    "import string, os \n",
    "import tensorflow as tf"
   ]
  },
  {
   "cell_type": "code",
   "execution_count": null,
   "id": "WcXVX_N-wZ0N",
   "metadata": {
    "colab": {
     "base_uri": "https://localhost:8080/"
    },
    "id": "WcXVX_N-wZ0N",
    "outputId": "0ce277a8-baa6-4028-a72c-3f2b70516a1c"
   },
   "outputs": [],
   "source": [
    "from google.colab import drive\n",
    "drive.mount('/content/drive')"
   ]
  },
  {
   "cell_type": "code",
   "execution_count": null,
   "id": "e34c891b",
   "metadata": {
    "colab": {
     "base_uri": "https://localhost:8080/",
     "height": 337
    },
    "id": "e34c891b",
    "outputId": "994ec1c7-f8b2-4955-9899-fd6d506a1156"
   },
   "outputs": [],
   "source": [
    "df = pd.read_csv('drive/MyDrive/lyrics-data.csv')\n",
    "df.head()"
   ]
  },
  {
   "cell_type": "code",
   "execution_count": null,
   "id": "cc71b478",
   "metadata": {
    "id": "cc71b478"
   },
   "outputs": [],
   "source": [
    "# drop\n",
    "df.drop(['ALink','SName','SLink'],axis=1,inplace=True)"
   ]
  },
  {
   "cell_type": "code",
   "execution_count": null,
   "id": "3d1167e9",
   "metadata": {
    "colab": {
     "base_uri": "https://localhost:8080/"
    },
    "id": "3d1167e9",
    "outputId": "afda4139-562d-4742-cb8c-f0700bde138c"
   },
   "outputs": [],
   "source": [
    "# value count\n",
    "df['language'].value_counts()"
   ]
  },
  {
   "cell_type": "code",
   "execution_count": null,
   "id": "10d73afb",
   "metadata": {
    "id": "10d73afb"
   },
   "outputs": [],
   "source": [
    "#Exttracting just English language songs\n",
    "df = df[df['language']=='en']"
   ]
  },
  {
   "cell_type": "code",
   "execution_count": null,
   "id": "1f98fd32",
   "metadata": {
    "colab": {
     "base_uri": "https://localhost:8080/"
    },
    "id": "1f98fd32",
    "outputId": "47b0c8f4-cd4e-46e5-89dc-acbbf6023741"
   },
   "outputs": [],
   "source": [
    "df.columns"
   ]
  },
  {
   "cell_type": "code",
   "execution_count": null,
   "id": "c32e938c",
   "metadata": {
    "colab": {
     "base_uri": "https://localhost:8080/"
    },
    "id": "c32e938c",
    "outputId": "1bb8429d-928f-435b-b3a2-d49139f048f6"
   },
   "outputs": [],
   "source": [
    "pip install textblob"
   ]
  },
  {
   "cell_type": "code",
   "execution_count": null,
   "id": "64f2fae4",
   "metadata": {
    "id": "64f2fae4"
   },
   "outputs": [],
   "source": [
    "from textblob import TextBlob\n",
    "\n",
    "def sentiment_label(text):\n",
    "    sentiment_score = TextBlob(text).sentiment.polarity\n",
    "    if sentiment_score > 0:\n",
    "        return 'happy'\n",
    "    elif sentiment_score < 0:\n",
    "        return 'sad'\n",
    "    else:\n",
    "        return 'neutral'\n",
    "\n",
    "df['sentiment'] = df['Lyric'].apply(sentiment_label)"
   ]
  },
  {
   "cell_type": "code",
   "execution_count": null,
   "id": "530a980c",
   "metadata": {
    "colab": {
     "base_uri": "https://localhost:8080/",
     "height": 206
    },
    "id": "530a980c",
    "outputId": "7ab47cd7-7b43-481a-bf04-8d6c384f1f91"
   },
   "outputs": [],
   "source": [
    "df.head()"
   ]
  },
  {
   "cell_type": "code",
   "execution_count": null,
   "id": "3a2c0bdf",
   "metadata": {
    "colab": {
     "base_uri": "https://localhost:8080/"
    },
    "id": "3a2c0bdf",
    "outputId": "0114f36e-3c82-4516-c392-c4079943a536"
   },
   "outputs": [],
   "source": [
    "df['sentiment'].value_counts()"
   ]
  },
  {
   "cell_type": "code",
   "execution_count": null,
   "id": "b8beb720",
   "metadata": {
    "id": "b8beb720"
   },
   "outputs": [],
   "source": [
    "rows_to_remove = df[df['sentiment'] == 'happy'].sample(n=79000)"
   ]
  },
  {
   "cell_type": "code",
   "execution_count": null,
   "id": "9fc53b3a",
   "metadata": {
    "colab": {
     "base_uri": "https://localhost:8080/"
    },
    "id": "9fc53b3a",
    "outputId": "b19d2706-9212-4b60-987b-b9d315ab60cb"
   },
   "outputs": [],
   "source": [
    "rows_to_remove['sentiment'].value_counts()"
   ]
  },
  {
   "cell_type": "code",
   "execution_count": null,
   "id": "76e383d5",
   "metadata": {
    "id": "76e383d5"
   },
   "outputs": [],
   "source": [
    "df_modified = df.drop(rows_to_remove.index)"
   ]
  },
  {
   "cell_type": "code",
   "execution_count": null,
   "id": "27ba05ae",
   "metadata": {
    "colab": {
     "base_uri": "https://localhost:8080/"
    },
    "id": "27ba05ae",
    "outputId": "2f6d045e-46ad-49e8-c0eb-040958a204c3"
   },
   "outputs": [],
   "source": [
    "df_modified['sentiment'].value_counts()"
   ]
  },
  {
   "cell_type": "code",
   "execution_count": null,
   "id": "9545a331",
   "metadata": {
    "id": "9545a331"
   },
   "outputs": [],
   "source": [
    "neutral_senti_rows_to_remove = df[df['sentiment'] == 'neutral']"
   ]
  },
  {
   "cell_type": "code",
   "execution_count": null,
   "id": "7a8f348b",
   "metadata": {
    "colab": {
     "base_uri": "https://localhost:8080/"
    },
    "id": "7a8f348b",
    "outputId": "7854e5ad-60e0-4df9-f14a-f88b79c3aac1"
   },
   "outputs": [],
   "source": [
    "neutral_senti_rows_to_remove['sentiment'].value_counts()"
   ]
  },
  {
   "cell_type": "code",
   "execution_count": null,
   "id": "a51e5870",
   "metadata": {
    "id": "a51e5870"
   },
   "outputs": [],
   "source": [
    "df_modified = df_modified.drop(neutral_senti_rows_to_remove.index)"
   ]
  },
  {
   "cell_type": "code",
   "execution_count": null,
   "id": "b8f72b45",
   "metadata": {
    "colab": {
     "base_uri": "https://localhost:8080/"
    },
    "id": "b8f72b45",
    "outputId": "e0bf459b-45aa-4c95-95f2-18dcc48d751d"
   },
   "outputs": [],
   "source": [
    "df_modified['sentiment'].value_counts()"
   ]
  },
  {
   "cell_type": "code",
   "execution_count": null,
   "id": "1277ee97",
   "metadata": {
    "colab": {
     "base_uri": "https://localhost:8080/",
     "height": 206
    },
    "id": "1277ee97",
    "outputId": "85bca59d-0d4f-4da0-d8a7-297d1f43c40a"
   },
   "outputs": [],
   "source": [
    "df_modified.head()"
   ]
  },
  {
   "cell_type": "code",
   "execution_count": null,
   "id": "8708115a",
   "metadata": {
    "id": "8708115a"
   },
   "outputs": [],
   "source": [
    "df_modified['lyrics_with_sentiment'] = df_modified['sentiment'] + \": \" + df_modified['Lyric']"
   ]
  },
  {
   "cell_type": "code",
   "execution_count": null,
   "id": "18df2ceb",
   "metadata": {
    "colab": {
     "base_uri": "https://localhost:8080/",
     "height": 250
    },
    "id": "18df2ceb",
    "outputId": "30572557-0f03-4ca3-f26f-0d304b84a539"
   },
   "outputs": [],
   "source": [
    "df_modified.head()"
   ]
  },
  {
   "cell_type": "code",
   "execution_count": null,
   "id": "6e3ec92d",
   "metadata": {
    "colab": {
     "base_uri": "https://localhost:8080/"
    },
    "id": "6e3ec92d",
    "outputId": "a15c811e-10d4-4c44-f802-84d0d3b10cd1"
   },
   "outputs": [],
   "source": [
    "pip install transformers\n"
   ]
  },
  {
   "cell_type": "code",
   "execution_count": null,
   "id": "uw1vrDrA-ypN",
   "metadata": {
    "id": "uw1vrDrA-ypN"
   },
   "outputs": [],
   "source": [
    "df_modified_truncated = df_modified.iloc[:10000]"
   ]
  },
  {
   "cell_type": "code",
   "execution_count": null,
   "id": "d422d90f",
   "metadata": {
    "id": "d422d90f"
   },
   "outputs": [],
   "source": [
    "df_modified_truncated['lyrics_with_sentiment'].to_csv('lyrics_dataset_modified.txt', index=False, header=None)"
   ]
  },
  {
   "cell_type": "code",
   "execution_count": null,
   "id": "af79ca4a",
   "metadata": {
    "id": "af79ca4a"
   },
   "outputs": [],
   "source": []
  },
  {
   "cell_type": "code",
   "execution_count": null,
   "id": "e6721214",
   "metadata": {
    "id": "e6721214"
   },
   "outputs": [],
   "source": []
  },
  {
   "cell_type": "code",
   "execution_count": null,
   "id": "62e02057",
   "metadata": {
    "id": "62e02057"
   },
   "outputs": [],
   "source": []
  },
  {
   "cell_type": "code",
   "execution_count": null,
   "id": "77a34dcb",
   "metadata": {
    "colab": {
     "base_uri": "https://localhost:8080/"
    },
    "id": "77a34dcb",
    "outputId": "426a382f-fa10-42fb-95a7-7885cefa3630"
   },
   "outputs": [],
   "source": [
    "from transformers import GPT2Tokenizer, GPT2LMHeadModel, TextDataset, DataCollatorForLanguageModeling\n",
    "from torch.utils.data import DataLoader\n",
    "\n",
    "# Load pre-trained GPT-2 tokenizer\n",
    "tokenizer = GPT2Tokenizer.from_pretrained(\"gpt2\")\n",
    "\n",
    "# Tokenize dataset and create TextDataset\n",
    "def load_dataset(file_path, tokenizer):\n",
    "    dataset = TextDataset(\n",
    "        tokenizer=tokenizer,\n",
    "        file_path=file_path,\n",
    "        block_size=128\n",
    "    )\n",
    "    return dataset\n",
    "\n",
    "train_dataset = load_dataset('lyrics_dataset_modified.txt', tokenizer)\n",
    "\n",
    "# Data collator to create batches\n",
    "data_collator = DataCollatorForLanguageModeling(\n",
    "    tokenizer=tokenizer, mlm=False,\n",
    ")"
   ]
  },
  {
   "cell_type": "code",
   "execution_count": null,
   "id": "59919890",
   "metadata": {
    "colab": {
     "base_uri": "https://localhost:8080/",
     "height": 1000
    },
    "id": "59919890",
    "outputId": "5ac9af34-e7bb-4c8e-addb-a2a68b9f2013"
   },
   "outputs": [],
   "source": [
    "from transformers import Trainer, TrainingArguments\n",
    "\n",
    "# Load pre-trained GPT-2 model\n",
    "model = GPT2LMHeadModel.from_pretrained(\"gpt2\")\n",
    "\n",
    "# Define training arguments\n",
    "training_args = TrainingArguments(\n",
    "    output_dir=\"./output\",\n",
    "    overwrite_output_dir=True,\n",
    "    num_train_epochs=4,\n",
    "    per_device_train_batch_size=4,\n",
    "    save_steps=100,\n",
    "    save_total_limit=2,\n",
    "    logging_dir='./logs',\n",
    ")\n",
    "\n",
    "# Create a Trainer\n",
    "trainer = Trainer(\n",
    "    model=model,\n",
    "    args=training_args,\n",
    "    data_collator=data_collator,\n",
    "    train_dataset=train_dataset,\n",
    ")\n",
    "\n",
    "# Fine-tune the model\n",
    "trainer.train()"
   ]
  },
  {
   "cell_type": "code",
   "execution_count": null,
   "id": "4a2f1e17",
   "metadata": {
    "id": "4a2f1e17"
   },
   "outputs": [],
   "source": [
    "trainer.save_model(\"./output\")"
   ]
  },
  {
   "cell_type": "code",
   "execution_count": null,
   "id": "93c1332b",
   "metadata": {},
   "outputs": [],
   "source": [
    "from transformers import pipeline\n",
    "\n",
    "# Load the fine-tuned model and create a text generation pipeline\n",
    "generator = pipeline('text-generation', model='./output', tokenizer=tokenizer)\n",
    "\n",
    "# Generate new lyrics with a sentiment prompt\n",
    "generated_text = generator(\"sad: \", max_length=100, num_return_sequences=1)[0]['generated_text']\n",
    "print(generated_text)"
   ]
  }
 ],
 "metadata": {
  "accelerator": "GPU",
  "colab": {
   "gpuType": "A100",
   "provenance": []
  },
  "gpuClass": "standard",
  "kernelspec": {
   "display_name": "Python 3 (ipykernel)",
   "language": "python",
   "name": "python3"
  },
  "language_info": {
   "codemirror_mode": {
    "name": "ipython",
    "version": 3
   },
   "file_extension": ".py",
   "mimetype": "text/x-python",
   "name": "python",
   "nbconvert_exporter": "python",
   "pygments_lexer": "ipython3",
   "version": "3.9.6"
  }
 },
 "nbformat": 4,
 "nbformat_minor": 5
}
